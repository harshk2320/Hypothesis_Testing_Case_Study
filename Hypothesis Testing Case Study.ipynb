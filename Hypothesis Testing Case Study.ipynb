{
 "cells": [
  {
   "cell_type": "code",
   "execution_count": 151,
   "metadata": {},
   "outputs": [],
   "source": [
    "# Importing libraries\n",
    "import numpy as np\n",
    "import pandas as pd\n",
    "import seaborn as sns\n",
    "import matplotlib.pyplot as plt\n",
    "from scipy import stats\n",
    "from datetime import datetime as dt, date"
   ]
  },
  {
   "cell_type": "markdown",
   "metadata": {},
   "source": [
    "## BUSINESS PROBLEM-1"
   ]
  },
  {
   "cell_type": "markdown",
   "metadata": {},
   "source": [
    "### Performing EDA and removing noise from the data."
   ]
  },
  {
   "cell_type": "code",
   "execution_count": 385,
   "metadata": {},
   "outputs": [],
   "source": [
    "# Reading the file.\n",
    "loans_data= pd.read_csv(r\"F:\\AnalyticslabFIles\\Projects\\python\\4. Basic Statistics - Hypothesis Testing\\LoansData.csv\")"
   ]
  },
  {
   "cell_type": "code",
   "execution_count": 359,
   "metadata": {},
   "outputs": [
    {
     "data": {
      "text/plain": [
       "Amount.Requested                   1\n",
       "Amount.Funded.By.Investors         1\n",
       "Interest.Rate                      2\n",
       "Loan.Length                        0\n",
       "Loan.Purpose                       0\n",
       "Debt.To.Income.Ratio               1\n",
       "State                              0\n",
       "Home.Ownership                     1\n",
       "Monthly.Income                     1\n",
       "FICO.Range                         2\n",
       "Open.CREDIT.Lines                  3\n",
       "Revolving.CREDIT.Balance           3\n",
       "Inquiries.in.the.Last.6.Months     3\n",
       "Employment.Length                 77\n",
       "dtype: int64"
      ]
     },
     "execution_count": 359,
     "metadata": {},
     "output_type": "execute_result"
    }
   ],
   "source": [
    "# Checking for null values.\n",
    "\n",
    "loans_data.isna().sum()"
   ]
  },
  {
   "cell_type": "code",
   "execution_count": 360,
   "metadata": {},
   "outputs": [],
   "source": [
    "# Removing the noise values and converting the Interest.Rate column to numeric\n",
    "loans_data['Interest.Rate']= pd.to_numeric(loans_data['Interest.Rate'].str.replace('%', \"\"))"
   ]
  },
  {
   "cell_type": "code",
   "execution_count": 379,
   "metadata": {},
   "outputs": [],
   "source": [
    "# Creating new column 'FICO_scores' from FICO.Range\n",
    "loans_data['FICO_scores']= pd.to_numeric(loans_data['FICO.Range'].str.split('-', expand= True)[0])"
   ]
  },
  {
   "cell_type": "code",
   "execution_count": 380,
   "metadata": {},
   "outputs": [],
   "source": [
    "# Filling the null values with mode of columns:\n",
    "\n",
    "for i in ['Amount.Requested', 'Amount.Funded.By.Investors', \n",
    "          'Interest.Rate', 'Debt.To.Income.Ratio', 'Home.Ownership',\n",
    "          'Monthly.Income', 'FICO.Range', 'Open.CREDIT.Lines', 'Revolving.CREDIT.Balance',\n",
    "         'Inquiries.in.the.Last.6.Months', 'Employment.Length']:\n",
    "    loans_data.fillna(loans_data[i].mode()[0], inplace= True)"
   ]
  },
  {
   "cell_type": "code",
   "execution_count": 381,
   "metadata": {},
   "outputs": [
    {
     "data": {
      "text/plain": [
       "Amount.Requested                  0\n",
       "Amount.Funded.By.Investors        0\n",
       "Interest.Rate                     0\n",
       "Loan.Length                       0\n",
       "Loan.Purpose                      0\n",
       "Debt.To.Income.Ratio              0\n",
       "State                             0\n",
       "Home.Ownership                    0\n",
       "Monthly.Income                    0\n",
       "FICO.Range                        0\n",
       "Open.CREDIT.Lines                 0\n",
       "Revolving.CREDIT.Balance          0\n",
       "Inquiries.in.the.Last.6.Months    0\n",
       "Employment.Length                 0\n",
       "FICO_scores                       0\n",
       "dtype: int64"
      ]
     },
     "execution_count": 381,
     "metadata": {},
     "output_type": "execute_result"
    }
   ],
   "source": [
    "loans_data.isna().sum()"
   ]
  },
  {
   "cell_type": "raw",
   "metadata": {},
   "source": [
    "BACKGROUND: The Lending Club is a peer-to-peer lending site where members make loans to \n",
    "each other. The site makes anonymized data on loans and borrowers publicly available."
   ]
  },
  {
   "cell_type": "markdown",
   "metadata": {},
   "source": [
    "#### BUSINESS PROBLEM:\n",
    "#### Using lending club loans data, the team would like to test below hypothesis on how different  factors effecing each other (Hint: You may leverage hypothesis testing using statistical tests)"
   ]
  },
  {
   "cell_type": "markdown",
   "metadata": {},
   "source": [
    "##### a. Intrest rate is varied for different loan amounts (Less intrest charged for high loan amounts)"
   ]
  },
  {
   "cell_type": "code",
   "execution_count": 363,
   "metadata": {},
   "outputs": [
    {
     "data": {
      "text/html": [
       "<div>\n",
       "<style scoped>\n",
       "    .dataframe tbody tr th:only-of-type {\n",
       "        vertical-align: middle;\n",
       "    }\n",
       "\n",
       "    .dataframe tbody tr th {\n",
       "        vertical-align: top;\n",
       "    }\n",
       "\n",
       "    .dataframe thead th {\n",
       "        text-align: right;\n",
       "    }\n",
       "</style>\n",
       "<table border=\"1\" class=\"dataframe\">\n",
       "  <thead>\n",
       "    <tr style=\"text-align: right;\">\n",
       "      <th></th>\n",
       "      <th>Amount.Requested</th>\n",
       "      <th>Amount.Funded.By.Investors</th>\n",
       "      <th>Interest.Rate</th>\n",
       "      <th>Loan.Length</th>\n",
       "      <th>Loan.Purpose</th>\n",
       "      <th>Debt.To.Income.Ratio</th>\n",
       "      <th>State</th>\n",
       "      <th>Home.Ownership</th>\n",
       "      <th>Monthly.Income</th>\n",
       "      <th>FICO.Range</th>\n",
       "      <th>Open.CREDIT.Lines</th>\n",
       "      <th>Revolving.CREDIT.Balance</th>\n",
       "      <th>Inquiries.in.the.Last.6.Months</th>\n",
       "      <th>Employment.Length</th>\n",
       "    </tr>\n",
       "  </thead>\n",
       "  <tbody>\n",
       "    <tr>\n",
       "      <th>0</th>\n",
       "      <td>20000.0</td>\n",
       "      <td>20000.0</td>\n",
       "      <td>8.90</td>\n",
       "      <td>36 months</td>\n",
       "      <td>debt_consolidation</td>\n",
       "      <td>14.90%</td>\n",
       "      <td>SC</td>\n",
       "      <td>MORTGAGE</td>\n",
       "      <td>6541.67</td>\n",
       "      <td>735-739</td>\n",
       "      <td>14.0</td>\n",
       "      <td>14272.0</td>\n",
       "      <td>2.0</td>\n",
       "      <td>&lt; 1 year</td>\n",
       "    </tr>\n",
       "    <tr>\n",
       "      <th>1</th>\n",
       "      <td>19200.0</td>\n",
       "      <td>19200.0</td>\n",
       "      <td>12.12</td>\n",
       "      <td>36 months</td>\n",
       "      <td>debt_consolidation</td>\n",
       "      <td>28.36%</td>\n",
       "      <td>TX</td>\n",
       "      <td>MORTGAGE</td>\n",
       "      <td>4583.33</td>\n",
       "      <td>715-719</td>\n",
       "      <td>12.0</td>\n",
       "      <td>11140.0</td>\n",
       "      <td>1.0</td>\n",
       "      <td>2 years</td>\n",
       "    </tr>\n",
       "  </tbody>\n",
       "</table>\n",
       "</div>"
      ],
      "text/plain": [
       "   Amount.Requested  Amount.Funded.By.Investors  Interest.Rate Loan.Length  \\\n",
       "0           20000.0                     20000.0           8.90   36 months   \n",
       "1           19200.0                     19200.0          12.12   36 months   \n",
       "\n",
       "         Loan.Purpose Debt.To.Income.Ratio State Home.Ownership  \\\n",
       "0  debt_consolidation               14.90%    SC       MORTGAGE   \n",
       "1  debt_consolidation               28.36%    TX       MORTGAGE   \n",
       "\n",
       "   Monthly.Income FICO.Range  Open.CREDIT.Lines  Revolving.CREDIT.Balance  \\\n",
       "0         6541.67    735-739               14.0                   14272.0   \n",
       "1         4583.33    715-719               12.0                   11140.0   \n",
       "\n",
       "   Inquiries.in.the.Last.6.Months Employment.Length  \n",
       "0                             2.0          < 1 year  \n",
       "1                             1.0           2 years  "
      ]
     },
     "execution_count": 363,
     "metadata": {},
     "output_type": "execute_result"
    }
   ],
   "source": [
    "# Viewing the data\n",
    "loans_data.head(2)"
   ]
  },
  {
   "cell_type": "code",
   "execution_count": 364,
   "metadata": {},
   "outputs": [
    {
     "data": {
      "text/html": [
       "<div>\n",
       "<style scoped>\n",
       "    .dataframe tbody tr th:only-of-type {\n",
       "        vertical-align: middle;\n",
       "    }\n",
       "\n",
       "    .dataframe tbody tr th {\n",
       "        vertical-align: top;\n",
       "    }\n",
       "\n",
       "    .dataframe thead th {\n",
       "        text-align: right;\n",
       "    }\n",
       "</style>\n",
       "<table border=\"1\" class=\"dataframe\">\n",
       "  <thead>\n",
       "    <tr style=\"text-align: right;\">\n",
       "      <th></th>\n",
       "      <th>Interest.Rate</th>\n",
       "      <th>Amount.Funded.By.Investors</th>\n",
       "    </tr>\n",
       "  </thead>\n",
       "  <tbody>\n",
       "    <tr>\n",
       "      <th>Interest.Rate</th>\n",
       "      <td>1.000000</td>\n",
       "      <td>0.015944</td>\n",
       "    </tr>\n",
       "    <tr>\n",
       "      <th>Amount.Funded.By.Investors</th>\n",
       "      <td>0.015944</td>\n",
       "      <td>1.000000</td>\n",
       "    </tr>\n",
       "  </tbody>\n",
       "</table>\n",
       "</div>"
      ],
      "text/plain": [
       "                            Interest.Rate  Amount.Funded.By.Investors\n",
       "Interest.Rate                    1.000000                    0.015944\n",
       "Amount.Funded.By.Investors       0.015944                    1.000000"
      ]
     },
     "execution_count": 364,
     "metadata": {},
     "output_type": "execute_result"
    }
   ],
   "source": [
    "# Checking the correlation between the Interest rate and Amount funded by the investors.\n",
    "loans_data.loc[:, ['Interest.Rate', 'Amount.Funded.By.Investors']].corr()\n",
    "# The correlation between the two variables is weak which shows that Interest.Rate does not big significance on Amount.Funded.By.Investors"
   ]
  },
  {
   "cell_type": "markdown",
   "metadata": {},
   "source": [
    "##### b. Loan length is directly effecting intrest rate."
   ]
  },
  {
   "cell_type": "code",
   "execution_count": 351,
   "metadata": {},
   "outputs": [],
   "source": [
    "# Samples with different Loan.Length.\n",
    "s1= loans_data.loc[loans_data['Loan.Length']== '36 months', 'Interest.Rate'] \n",
    "s2= loans_data.loc[loans_data['Loan.Length']== '60 months', 'Interest.Rate']"
   ]
  },
  {
   "cell_type": "code",
   "execution_count": 352,
   "metadata": {},
   "outputs": [
    {
     "data": {
      "text/plain": [
       "Ttest_indResult(statistic=0.43584197622598564, pvalue=0.6629890455123574)"
      ]
     },
     "execution_count": 352,
     "metadata": {},
     "output_type": "execute_result"
    }
   ],
   "source": [
    "# H0: both are from the same population i,e loan length has no effect on Interest rate. \n",
    "# Ha: both are from the different population i,e loan length has effect on Interest rate.\n",
    "# CI: 95%, p-value: 0.05\n",
    "\n",
    "# Perform the test:\n",
    "stats.ttest_ind(s1, s2)\n"
   ]
  },
  {
   "cell_type": "code",
   "execution_count": 160,
   "metadata": {},
   "outputs": [
    {
     "name": "stdout",
     "output_type": "stream",
     "text": [
      "Business conclusion: Since p value > 0.05 , we are fail to reject the H0 i,e both the means are different and thus loan length has no effect on the Interest rate\n"
     ]
    }
   ],
   "source": [
    "# Business conclusion:\n",
    "print('Business conclusion: Since p value > 0.05 , we are fail to reject the H0 i,e both the means are different and thus loan length has no effect on the Interest rate')"
   ]
  },
  {
   "cell_type": "markdown",
   "metadata": {},
   "source": [
    "##### c. Inrest rate varies for different purpose of loans"
   ]
  },
  {
   "cell_type": "code",
   "execution_count": 366,
   "metadata": {},
   "outputs": [],
   "source": [
    "# Samples with different Loan.Purpose\n",
    "\n",
    "s1= loans_data.loc[loans_data['Loan.Purpose']== 'debt_consolidation', 'Interest.Rate']\n",
    "s2= loans_data.loc[loans_data['Loan.Purpose']== 'credit_card', 'Interest.Rate']\n",
    "s3= loans_data.loc[loans_data['Loan.Purpose']== 'other', 'Interest.Rate']\n",
    "s4= loans_data.loc[loans_data['Loan.Purpose']== 'moving', 'Interest.Rate']\n",
    "s5= loans_data.loc[loans_data['Loan.Purpose']== 'car', 'Interest.Rate']\n",
    "s6= loans_data.loc[loans_data['Loan.Purpose']== 'vacation', 'Interest.Rate']\n",
    "s7= loans_data.loc[loans_data['Loan.Purpose']== 'home_improvement', 'Interest.Rate']\n",
    "s8= loans_data.loc[loans_data['Loan.Purpose']== 'house', 'Interest.Rate']\n",
    "s9= loans_data.loc[loans_data['Loan.Purpose']== 'major_purchase', 'Interest.Rate']\n",
    "s10= loans_data.loc[loans_data['Loan.Purpose']== 'educational', 'Interest.Rate']\n",
    "s11= loans_data.loc[loans_data['Loan.Purpose']=='medical', 'Interest.Rate']\n",
    "s12= loans_data.loc[loans_data['Loan.Purpose']== 'wedding', 'Interest.Rate']\n",
    "s13= loans_data.loc[loans_data['Loan.Purpose']== 'small_business', 'Interest.Rate']\n",
    "s14= loans_data.loc[loans_data['Loan.Purpose']=='renewable_energy', 'Interest.Rate']"
   ]
  },
  {
   "cell_type": "code",
   "execution_count": 367,
   "metadata": {},
   "outputs": [
    {
     "name": "stdout",
     "output_type": "stream",
     "text": [
      "mean of s1: 13.586916602907444 | mean of s2: 35.54378378378376 | mean of s3: 13.159552238805967 | mean of s4: 13.621034482758622 | mean of s5: 11.113000000000001 | mean of s6: 11.966190476190476 | mean of s7: 11.594276315789479 | mean of s8: 13.448000000000002 | mean of s9: 10.797821782178215 | mean of s10: 11.007333333333332 | mean of s11: 11.649666666666668 | mean of s12: 268.14846153846156 | mean of s13: 12.839195402298845 | mean of s14: 9.8775\n"
     ]
    }
   ],
   "source": [
    "# Mean of samples\n",
    "\n",
    "print('mean of s1:', s1.mean(), \n",
    "      '| mean of s2:', s2.mean(), \n",
    "      '| mean of s3:', s3.mean(),\n",
    "      '| mean of s4:', s4.mean(), \n",
    "      '| mean of s5:', s5.mean(), \n",
    "      '| mean of s6:', s6.mean(), \n",
    "      '| mean of s7:', s7.mean(),\n",
    "      '| mean of s8:', s8.mean(),\n",
    "      '| mean of s9:', s9.mean(),\n",
    "      '| mean of s10:', s10.mean(),\n",
    "      '| mean of s11:', s11.mean(),\n",
    "      '| mean of s12:', s12.mean(), \n",
    "      '| mean of s13:', s13.mean(),\n",
    "      '| mean of s14:', s14.mean())"
   ]
  },
  {
   "cell_type": "code",
   "execution_count": 368,
   "metadata": {},
   "outputs": [
    {
     "data": {
      "text/plain": [
       "F_onewayResult(statistic=2.406413964865984, pvalue=0.0018009747325657183)"
      ]
     },
     "execution_count": 368,
     "metadata": {},
     "output_type": "execute_result"
    }
   ],
   "source": [
    "# H0: All the samples are from the same population i,e interest rate does not varies for different purpose of loans\n",
    "# Ha: All the samples are from the different population i,e interest rate does vary for different purpose of loans\n",
    "# CI: 95%, p-value: 0.05\n",
    "\n",
    "# Perform the test:\n",
    "stats.f_oneway(s1, s2, s3, s3, s4, s4, s5, s6, s7, s8, s9, s10, s11, s12, s13, s14)"
   ]
  },
  {
   "cell_type": "code",
   "execution_count": 165,
   "metadata": {},
   "outputs": [
    {
     "name": "stdout",
     "output_type": "stream",
     "text": [
      "Business conclusion: Since p-value < 0.05, we are rejecting the H0 ( null hypothesis ), i,e all samples are from different population which means interest rate does vary for different purpose of loans\n"
     ]
    }
   ],
   "source": [
    "# Business conclusion:\n",
    "print('Business conclusion: Since p-value < 0.05, we are rejecting the null hypothesis ( H0 ) i,e all samples are from different population which means interest rate does vary for different purpose of loans')"
   ]
  },
  {
   "cell_type": "markdown",
   "metadata": {},
   "source": [
    "##### d. There is relationship between FICO scores and Home Ownership. It means that, People with owning home will have high FICO scores."
   ]
  },
  {
   "cell_type": "code",
   "execution_count": 383,
   "metadata": {},
   "outputs": [],
   "source": [
    "s1= loans_data.loc[loans_data['Home.Ownership']== 'MORTGAGE', 'FICO_scores' ]\n",
    "s2= loans_data.loc[loans_data['Home.Ownership']== 'RENT', 'FICO_scores' ]\n",
    "s3= loans_data.loc[loans_data['Home.Ownership']== 'OTHER', 'FICO_scores' ]\n",
    "s4= loans_data.loc[loans_data['Home.Ownership']== 'NONE', 'FICO_scores' ]\n",
    "s5= loans_data.loc[loans_data['Home.Ownership']== 'OWN', 'FICO_scores' ]"
   ]
  },
  {
   "cell_type": "code",
   "execution_count": 384,
   "metadata": {},
   "outputs": [
    {
     "data": {
      "text/plain": [
       "F_onewayResult(statistic=0.3681610332553651, pvalue=0.8314484927825438)"
      ]
     },
     "execution_count": 384,
     "metadata": {},
     "output_type": "execute_result"
    }
   ],
   "source": [
    "# H0: All the samples have the same mean i,e they belong to same population which means that FICO score does not have any effect on Home.Ownership \n",
    "# Ha: All the samples have different mean i,e they belong to different population which means that FICO score does have an impact on Home.Ownership\n",
    "# CI: 95%, p-value: 0.05\n",
    "\n",
    "# Performing the test:\n",
    "stats.f_oneway(s1, s2, s3, s4, s5)"
   ]
  },
  {
   "cell_type": "code",
   "execution_count": 220,
   "metadata": {},
   "outputs": [
    {
     "name": "stdout",
     "output_type": "stream",
     "text": [
      "Business conclusion: Since p-value > 0.05, we fail to reject the null hypothesis which means FICO scores does not have any impact on Home.Ownership\n"
     ]
    }
   ],
   "source": [
    "# Business conclusion:\n",
    "print('Business conclusion: Since p-value > 0.05, we fail to reject the null hypothesis which means FICO scores does not have any impact on Home.Ownership')"
   ]
  },
  {
   "cell_type": "markdown",
   "metadata": {},
   "source": [
    "## BUSINESS PROBLEM - 2"
   ]
  },
  {
   "cell_type": "code",
   "execution_count": 221,
   "metadata": {},
   "outputs": [],
   "source": [
    "# Reading the file.\n",
    "price_quotes= pd.read_csv(r\"F:\\AnalyticslabFIles\\Projects\\python\\4. Basic Statistics - Hypothesis Testing\\Price_Quotes.csv\")"
   ]
  },
  {
   "cell_type": "markdown",
   "metadata": {},
   "source": [
    "### Performing EDA and removing noise from the data."
   ]
  },
  {
   "cell_type": "code",
   "execution_count": 386,
   "metadata": {},
   "outputs": [
    {
     "data": {
      "text/plain": [
       "Order_Number    0\n",
       "Barry_Price     0\n",
       "Mary_Price      0\n",
       "dtype: int64"
      ]
     },
     "execution_count": 386,
     "metadata": {},
     "output_type": "execute_result"
    }
   ],
   "source": [
    "# Checking for null values.\n",
    "price_quotes.isna().sum()"
   ]
  },
  {
   "cell_type": "code",
   "execution_count": 387,
   "metadata": {},
   "outputs": [
    {
     "data": {
      "text/html": [
       "<div>\n",
       "<style scoped>\n",
       "    .dataframe tbody tr th:only-of-type {\n",
       "        vertical-align: middle;\n",
       "    }\n",
       "\n",
       "    .dataframe tbody tr th {\n",
       "        vertical-align: top;\n",
       "    }\n",
       "\n",
       "    .dataframe thead th {\n",
       "        text-align: right;\n",
       "    }\n",
       "</style>\n",
       "<table border=\"1\" class=\"dataframe\">\n",
       "  <thead>\n",
       "    <tr style=\"text-align: right;\">\n",
       "      <th></th>\n",
       "      <th>Order_Number</th>\n",
       "      <th>Barry_Price</th>\n",
       "      <th>Mary_Price</th>\n",
       "    </tr>\n",
       "  </thead>\n",
       "  <tbody>\n",
       "    <tr>\n",
       "      <th>0</th>\n",
       "      <td>1</td>\n",
       "      <td>126</td>\n",
       "      <td>114</td>\n",
       "    </tr>\n",
       "    <tr>\n",
       "      <th>1</th>\n",
       "      <td>2</td>\n",
       "      <td>110</td>\n",
       "      <td>118</td>\n",
       "    </tr>\n",
       "  </tbody>\n",
       "</table>\n",
       "</div>"
      ],
      "text/plain": [
       "   Order_Number  Barry_Price  Mary_Price\n",
       "0             1          126         114\n",
       "1             2          110         118"
      ]
     },
     "execution_count": 387,
     "metadata": {},
     "output_type": "execute_result"
    }
   ],
   "source": [
    "# Viewing the data.\n",
    "price_quotes.head(2)"
   ]
  },
  {
   "cell_type": "raw",
   "metadata": {},
   "source": [
    "BACKGROUND: When an order is placed by a customer of a small manufacturing company, a \n",
    "price quote must be developed for that order. Because each order is unique, quotes must be \n",
    "established on an order-by-order basis by a pricing expert. The price quote process is labor\u0002intensive, as prices depend on many factors such as the part number, customer, geographic \n",
    "location, market, and order volume. The sales department manager is concerned that the pricing \n",
    "process is too complex, and that there might be too much variability in the quoted prices. An \n",
    "improvement team is tasked with studying and improving the pricing process.\n",
    "After interviewing experts to develop a better understanding of the current process, the team \n",
    "designed a study to determine if there is variability between pricing experts. That is, do different \n",
    "pricing experts provide different price quotes? Two randomly selected pricing experts, Mary and \n",
    "Barry, were asked to independently provide prices for twelve randomly selected orders. Each \n",
    "expert provided one price for each of the twelve orders."
   ]
  },
  {
   "cell_type": "markdown",
   "metadata": {},
   "source": [
    "#### BUSINESS PROBLEM: We would like to assess if there is any difference in the average price quotes provided by Mary and Barry."
   ]
  },
  {
   "cell_type": "code",
   "execution_count": 388,
   "metadata": {},
   "outputs": [
    {
     "data": {
      "text/plain": [
       "Ttest_indResult(statistic=1.4147436739281787, pvalue=0.17114226132118285)"
      ]
     },
     "execution_count": 388,
     "metadata": {},
     "output_type": "execute_result"
    }
   ],
   "source": [
    "# H0: Prices given by Barry and Mary are equal\n",
    "# Ha: Prices given by Barry and Mary are not equal\n",
    "# CI: 95%, p-value: 0.05\n",
    "\n",
    "# Perform the test:\n",
    "stats.ttest_ind(a= price_quotes.Barry_Price, b= price_quotes.Mary_Price)"
   ]
  },
  {
   "cell_type": "code",
   "execution_count": 224,
   "metadata": {},
   "outputs": [
    {
     "name": "stdout",
     "output_type": "stream",
     "text": [
      "Business conclusion: Since the p-value > 0.05, we failed to reject the null hypothesis which means prices given by Barry & Mary are almost equal.\n"
     ]
    }
   ],
   "source": [
    "# Business conclusion:\n",
    "print('Business conclusion: Since the p-value > 0.05, we failed to reject the null hypothesis which means prices given by Barry & Mary are almost equal.')"
   ]
  },
  {
   "cell_type": "markdown",
   "metadata": {},
   "source": [
    "## BUSINESS PROBLEM-3:"
   ]
  },
  {
   "cell_type": "code",
   "execution_count": 225,
   "metadata": {},
   "outputs": [],
   "source": [
    "# Reading the data.\n",
    "treamet_facility= pd.read_csv(r\"F:\\AnalyticslabFIles\\Projects\\python\\4. Basic Statistics - Hypothesis Testing\\Treatment_Facility.csv\")"
   ]
  },
  {
   "cell_type": "markdown",
   "metadata": {},
   "source": [
    "### Performing EDA and removing noise from the data."
   ]
  },
  {
   "cell_type": "code",
   "execution_count": 390,
   "metadata": {},
   "outputs": [
    {
     "data": {
      "text/plain": [
       "Month                0\n",
       "Reengineer           0\n",
       "Employee_Turnover    0\n",
       "VAR4                 0\n",
       "VAR5                 0\n",
       "dtype: int64"
      ]
     },
     "execution_count": 390,
     "metadata": {},
     "output_type": "execute_result"
    }
   ],
   "source": [
    "# Cheking for null values.\n",
    "treamet_facility.isna().sum()"
   ]
  },
  {
   "cell_type": "code",
   "execution_count": 391,
   "metadata": {},
   "outputs": [
    {
     "data": {
      "text/html": [
       "<div>\n",
       "<style scoped>\n",
       "    .dataframe tbody tr th:only-of-type {\n",
       "        vertical-align: middle;\n",
       "    }\n",
       "\n",
       "    .dataframe tbody tr th {\n",
       "        vertical-align: top;\n",
       "    }\n",
       "\n",
       "    .dataframe thead th {\n",
       "        text-align: right;\n",
       "    }\n",
       "</style>\n",
       "<table border=\"1\" class=\"dataframe\">\n",
       "  <thead>\n",
       "    <tr style=\"text-align: right;\">\n",
       "      <th></th>\n",
       "      <th>Month</th>\n",
       "      <th>Reengineer</th>\n",
       "      <th>Employee_Turnover</th>\n",
       "      <th>VAR4</th>\n",
       "      <th>VAR5</th>\n",
       "    </tr>\n",
       "  </thead>\n",
       "  <tbody>\n",
       "    <tr>\n",
       "      <th>0</th>\n",
       "      <td>1</td>\n",
       "      <td>Prior</td>\n",
       "      <td>0.0000</td>\n",
       "      <td>24.390244</td>\n",
       "      <td>42.682927</td>\n",
       "    </tr>\n",
       "    <tr>\n",
       "      <th>1</th>\n",
       "      <td>2</td>\n",
       "      <td>Prior</td>\n",
       "      <td>6.0606</td>\n",
       "      <td>19.354839</td>\n",
       "      <td>25.806452</td>\n",
       "    </tr>\n",
       "  </tbody>\n",
       "</table>\n",
       "</div>"
      ],
      "text/plain": [
       "   Month Reengineer  Employee_Turnover       VAR4       VAR5\n",
       "0      1      Prior             0.0000  24.390244  42.682927\n",
       "1      2      Prior             6.0606  19.354839  25.806452"
      ]
     },
     "execution_count": 391,
     "metadata": {},
     "output_type": "execute_result"
    }
   ],
   "source": [
    "# Viewing the data.\n",
    "treamet_facility.head(2)"
   ]
  },
  {
   "cell_type": "raw",
   "metadata": {},
   "source": [
    "BACKGROUND: The New Life Residential Treatment Facility is a NGO that treatsteenagers who\n",
    "have shown signs of mental illness. It provides housing and supervision of teenagers who are\n",
    "making the transition from psychiatric hospitals back into the community. Because many of\n",
    "the teenagers were severely abused as children and have been involved with the juvenile\n",
    "justice system, behavioral problems are common at New Life. Employee pay is low and staff\n",
    "turnover (attrition) is high.\n",
    "A reengineering program wasinstituted at New Life with the goals of lowering behavioral\n",
    "problems of the kids and decreasing employee turnover rates. As a part of this effort, the\n",
    "following changes were made:\n",
    " Employee shifts were shortened from 10 hours to 8 hours each day.\n",
    " Employees were motivated to become more involved in patient treatments. This\n",
    "included encouraging staff to run varioustherapeutic treatment sessions and allowing\n",
    "staff to have more say in program changes.\n",
    " The activities budget wasincreased.\n",
    " A facility-wide performance evaluation system was putinto place that rewarded staff\n",
    "participation andinnovation.\n",
    " Management and staff instituted a program designed to raise expectations about\n",
    "appropriate behavior from the kids. Thisincluded strict compliance with reporting of\n",
    "behavioral violations, insistence on participation in therapeutic sessions, and a\n",
    "lowered tolerance for even moderate behavioralinfractions.\n",
    "To determine the effectiveness of the reengineering effort, a data set comprised of pre- and\n",
    "post-reengineering periods was compiled. The information contains two measures of\n",
    "behavioral problems. A critical incident occurs when a resident goes AWOL (leavesthe\n",
    "premises without permission), destroys property (e.g., punching a hole in a wall or throwing\n",
    "furniture through windows), is caught in possession of street drugs, or engages in assault\n",
    "against other residents or staff members. A teenager istemporarily removed from the facility\n",
    "when s/he is sent to jail or back to a psychiatric hospital"
   ]
  },
  {
   "cell_type": "markdown",
   "metadata": {},
   "source": [
    "#### BUSINESS PROBLEM: Determine what effect, if any, the reengineering effort had on the incidence behavioral problems and staff turnover. i.e To determine if the reengineering effort changed the critical incidence rate. Isthere evidence that the critical incidence rate improved?"
   ]
  },
  {
   "cell_type": "code",
   "execution_count": 392,
   "metadata": {},
   "outputs": [],
   "source": [
    "# Samples \n",
    "s1= treamet_facility.loc[treamet_facility.Reengineer == 'Prior', 'VAR5']\n",
    "s2= treamet_facility.loc[treamet_facility.Reengineer == 'Post', 'VAR5']"
   ]
  },
  {
   "cell_type": "code",
   "execution_count": 393,
   "metadata": {},
   "outputs": [
    {
     "data": {
      "text/plain": [
       "Ttest_indResult(statistic=1.6279144253528646, pvalue=0.12091989189884149)"
      ]
     },
     "execution_count": 393,
     "metadata": {},
     "output_type": "execute_result"
    }
   ],
   "source": [
    "# H0: mean of s1 and s2 is same i,e Reenginering has impacted the Critical Incidence rate.\n",
    "# Ha: mean of s1 and s2 is not equal i,e Reengneering has not impacted the Critical Incidence rate.\n",
    "# CI: 95%, p-value: 0.05\n",
    "# Perform the test:\n",
    "\n",
    "stats.ttest_ind(s1, s2)"
   ]
  },
  {
   "cell_type": "code",
   "execution_count": 394,
   "metadata": {},
   "outputs": [
    {
     "name": "stdout",
     "output_type": "stream",
     "text": [
      "Business conclusion: Since the p-value > 0.05, which means that Reengineering has impacted the Critical Incidence rate.\n"
     ]
    }
   ],
   "source": [
    "# Business conclusion:\n",
    "print('Business conclusion: Since the p-value > 0.05, which means that Reengineering has impacted the Critical Incidence rate.')"
   ]
  },
  {
   "cell_type": "markdown",
   "metadata": {},
   "source": [
    "## BUSINESS PROBLEM-4"
   ]
  },
  {
   "cell_type": "code",
   "execution_count": 232,
   "metadata": {},
   "outputs": [],
   "source": [
    "# Reading the file.\n",
    "priority_assesment= pd.read_csv(r\"F:\\AnalyticslabFIles\\Projects\\python\\4. Basic Statistics - Hypothesis Testing\\Priority_Assessment.csv\")"
   ]
  },
  {
   "cell_type": "markdown",
   "metadata": {},
   "source": [
    "### Performing EDA and removing noise from the data."
   ]
  },
  {
   "cell_type": "code",
   "execution_count": 396,
   "metadata": {},
   "outputs": [
    {
     "data": {
      "text/plain": [
       "Days        0\n",
       "Priority    0\n",
       "dtype: int64"
      ]
     },
     "execution_count": 396,
     "metadata": {},
     "output_type": "execute_result"
    }
   ],
   "source": [
    "priority_assesment.isna().sum()"
   ]
  },
  {
   "cell_type": "code",
   "execution_count": 395,
   "metadata": {},
   "outputs": [
    {
     "data": {
      "text/html": [
       "<div>\n",
       "<style scoped>\n",
       "    .dataframe tbody tr th:only-of-type {\n",
       "        vertical-align: middle;\n",
       "    }\n",
       "\n",
       "    .dataframe tbody tr th {\n",
       "        vertical-align: top;\n",
       "    }\n",
       "\n",
       "    .dataframe thead th {\n",
       "        text-align: right;\n",
       "    }\n",
       "</style>\n",
       "<table border=\"1\" class=\"dataframe\">\n",
       "  <thead>\n",
       "    <tr style=\"text-align: right;\">\n",
       "      <th></th>\n",
       "      <th>Days</th>\n",
       "      <th>Priority</th>\n",
       "    </tr>\n",
       "  </thead>\n",
       "  <tbody>\n",
       "    <tr>\n",
       "      <th>0</th>\n",
       "      <td>3.3</td>\n",
       "      <td>High</td>\n",
       "    </tr>\n",
       "    <tr>\n",
       "      <th>1</th>\n",
       "      <td>7.9</td>\n",
       "      <td>Medium</td>\n",
       "    </tr>\n",
       "  </tbody>\n",
       "</table>\n",
       "</div>"
      ],
      "text/plain": [
       "   Days Priority\n",
       "0   3.3     High\n",
       "1   7.9   Medium"
      ]
     },
     "execution_count": 395,
     "metadata": {},
     "output_type": "execute_result"
    }
   ],
   "source": [
    "# Viewing the data.\n",
    "priority_assesment.head(2)"
   ]
  },
  {
   "cell_type": "raw",
   "metadata": {},
   "source": [
    "BACKGROUND: Software development projectstypically follow six basic phases: Requirements,\n",
    "design, implementation (and integration), testing (validation), deployment (installation) and\n",
    "maintenance. First, general requirements are gathered, and the scope of the functionality is\n",
    "defined. Then, alternative scenarios for the required functionality are developed and\n",
    "evaluated. Implementation, usually 50% or more of the development time, is the phase in\n",
    "which the design istranslated into programs and integrated with other parts of the software –\n",
    "this is when software engineers actually develop the code. During the final phases, programs\n",
    "are tested, software is put into use, and faults or performance issues are addressed.\n",
    "ApDudes, a developer of applicationsfor tablet computers, was having difficulty meeting\n",
    "project deadlines; only 10% of their projects had been completed within budget and on time\n",
    "last year and that was starting to hurt business. The group’s project manager was tasked with\n",
    "studying problems within the implementation phase. He found that software engineers were\n",
    "having difficulty prioritizing their work, and that they often became overwhelmed by the\n",
    "magnitude of the projects.\n",
    "As a result, two changes were made. Each project was broken down into smaller, distinct\n",
    "tasks, or jobs, and each job was assigned a priority. The project manager believes that this\n",
    "classification and prioritization system would speed the completion of high priority jobs, and\n",
    "thuslower overall project completion time"
   ]
  },
  {
   "cell_type": "markdown",
   "metadata": {},
   "source": [
    "#### BUSINESS PROBLEM: We will focus on the prioritization system. If the system is working, then high priority jobs, on average, should be completed more quickly than medium priority jobs, and medium priority jobs should be completed more quickly than low priority jobs. Use the data provided to determine whether this is, in fact, occurring."
   ]
  },
  {
   "cell_type": "code",
   "execution_count": 398,
   "metadata": {},
   "outputs": [],
   "source": [
    "# Samples.\n",
    "s1= priority_assesment.loc[priority_assesment.Priority == 'High', 'Days']\n",
    "s2= priority_assesment.loc[priority_assesment.Priority == 'Medium', 'Days']\n",
    "s3= priority_assesment.loc[priority_assesment.Priority == 'Low', 'Days']"
   ]
  },
  {
   "cell_type": "code",
   "execution_count": 399,
   "metadata": {},
   "outputs": [
    {
     "data": {
      "text/plain": [
       "F_onewayResult(statistic=1.812311010076072, pvalue=0.16411459461716182)"
      ]
     },
     "execution_count": 399,
     "metadata": {},
     "output_type": "execute_result"
    }
   ],
   "source": [
    "# H0: means of all the samples will belong to the same population i,e prioritization of work is  not working.\n",
    "# Ha: Means of all the samples will belong to the different population which show that prioritizing work is working.\n",
    "# CI: 95%, p-value: 0.05\n",
    "# Perform the test:\n",
    "\n",
    "stats.f_oneway(s1, s2, s3)"
   ]
  },
  {
   "cell_type": "code",
   "execution_count": 236,
   "metadata": {},
   "outputs": [
    {
     "name": "stdout",
     "output_type": "stream",
     "text": [
      "Business conclusion: Since p-value > 0.05, we fail to reject the null hypothesis which means that prioritization of is not working in properly.\n"
     ]
    }
   ],
   "source": [
    "# Business conclusion:\n",
    "print('Business conclusion: Since p-value > 0.05, we fail to reject the null hypothesis which means that prioritization of is not working in properly.')"
   ]
  },
  {
   "cell_type": "markdown",
   "metadata": {},
   "source": [
    "## BUSINESS PROBLEM-5"
   ]
  },
  {
   "cell_type": "code",
   "execution_count": 401,
   "metadata": {},
   "outputs": [],
   "source": [
    "# Reading the file.\n",
    "films= pd.read_csv(r\"F:\\AnalyticslabFIles\\Projects\\python\\4. Basic Statistics - Hypothesis Testing\\Films.csv\")"
   ]
  },
  {
   "cell_type": "markdown",
   "metadata": {},
   "source": [
    "### Performing EDA and removing noise from the data."
   ]
  },
  {
   "cell_type": "code",
   "execution_count": 402,
   "metadata": {},
   "outputs": [
    {
     "data": {
      "text/plain": [
       "_rowstate_         0\n",
       "Movie              0\n",
       "Gender             0\n",
       "Marital_Status     2\n",
       "Sinage             2\n",
       "Parking            2\n",
       "Clean              3\n",
       "Overall            2\n",
       "Age                2\n",
       "Income            16\n",
       "Hear_About         7\n",
       "dtype: int64"
      ]
     },
     "execution_count": 402,
     "metadata": {},
     "output_type": "execute_result"
    }
   ],
   "source": [
    "films.isna().sum()"
   ]
  },
  {
   "cell_type": "code",
   "execution_count": 403,
   "metadata": {},
   "outputs": [],
   "source": [
    "for i in films.columns:\n",
    "    films.fillna(films[i].mode()[0], inplace= True)"
   ]
  },
  {
   "cell_type": "code",
   "execution_count": 289,
   "metadata": {},
   "outputs": [
    {
     "data": {
      "text/plain": [
       "_rowstate_        0\n",
       "Movie             0\n",
       "Gender            0\n",
       "Marital_Status    0\n",
       "Sinage            0\n",
       "Parking           0\n",
       "Clean             0\n",
       "Overall           0\n",
       "Age               0\n",
       "Income            0\n",
       "Hear_About        0\n",
       "dtype: int64"
      ]
     },
     "execution_count": 289,
     "metadata": {},
     "output_type": "execute_result"
    }
   ],
   "source": [
    "films.isna().sum()"
   ]
  },
  {
   "cell_type": "code",
   "execution_count": 322,
   "metadata": {},
   "outputs": [],
   "source": [
    "# Removing noise from the data.\n",
    "films.Gender = np.where(films.Gender == '1', 'Male', np.where(films.Gender == '2', 'Female', np.where(films.Gender == 'Male', \"Male\", 'Female')))\n",
    "films.Marital_Status = np.where(films.Marital_Status == '1', 'Married', np.where(films.Marital_Status == '2', 'Single', np.where(films.Marital_Status == 'Married', \"Married\", 'Single')))"
   ]
  },
  {
   "cell_type": "code",
   "execution_count": 260,
   "metadata": {},
   "outputs": [
    {
     "data": {
      "text/html": [
       "<div>\n",
       "<style scoped>\n",
       "    .dataframe tbody tr th:only-of-type {\n",
       "        vertical-align: middle;\n",
       "    }\n",
       "\n",
       "    .dataframe tbody tr th {\n",
       "        vertical-align: top;\n",
       "    }\n",
       "\n",
       "    .dataframe thead th {\n",
       "        text-align: right;\n",
       "    }\n",
       "</style>\n",
       "<table border=\"1\" class=\"dataframe\">\n",
       "  <thead>\n",
       "    <tr style=\"text-align: right;\">\n",
       "      <th></th>\n",
       "      <th>_rowstate_</th>\n",
       "      <th>Movie</th>\n",
       "      <th>Gender</th>\n",
       "      <th>Marital_Status</th>\n",
       "      <th>Sinage</th>\n",
       "      <th>Parking</th>\n",
       "      <th>Clean</th>\n",
       "      <th>Overall</th>\n",
       "      <th>Age</th>\n",
       "      <th>Income</th>\n",
       "      <th>Hear_About</th>\n",
       "    </tr>\n",
       "  </thead>\n",
       "  <tbody>\n",
       "    <tr>\n",
       "      <th>0</th>\n",
       "      <td>0</td>\n",
       "      <td>Ferris Buellers Day Off</td>\n",
       "      <td>Female</td>\n",
       "      <td>Married</td>\n",
       "      <td>2.0</td>\n",
       "      <td>2.0</td>\n",
       "      <td>2.0</td>\n",
       "      <td>2.0</td>\n",
       "      <td>3.0</td>\n",
       "      <td>1.0</td>\n",
       "      <td>5</td>\n",
       "    </tr>\n",
       "    <tr>\n",
       "      <th>1</th>\n",
       "      <td>0</td>\n",
       "      <td>Ferris Buellers Day Off</td>\n",
       "      <td>Female</td>\n",
       "      <td>Single</td>\n",
       "      <td>1.0</td>\n",
       "      <td>1.0</td>\n",
       "      <td>1.0</td>\n",
       "      <td>1.0</td>\n",
       "      <td>2.0</td>\n",
       "      <td>1.0</td>\n",
       "      <td>5</td>\n",
       "    </tr>\n",
       "  </tbody>\n",
       "</table>\n",
       "</div>"
      ],
      "text/plain": [
       "   _rowstate_                    Movie  Gender Marital_Status  Sinage  \\\n",
       "0           0  Ferris Buellers Day Off  Female        Married     2.0   \n",
       "1           0  Ferris Buellers Day Off  Female         Single     1.0   \n",
       "\n",
       "   Parking  Clean  Overall  Age  Income Hear_About  \n",
       "0      2.0    2.0      2.0  3.0     1.0          5  \n",
       "1      1.0    1.0      1.0  2.0     1.0          5  "
      ]
     },
     "execution_count": 260,
     "metadata": {},
     "output_type": "execute_result"
    }
   ],
   "source": [
    "# Viewing the data.\n",
    "films.head(2)"
   ]
  },
  {
   "cell_type": "raw",
   "metadata": {},
   "source": [
    "BackGround: Film on the Rocksis a summer movie series held at the world-renowned Red\n",
    "Rocks Amphitheatre, which is situated on a hillside of the Rocky Mountains in Morrison,\n",
    "Colorado fifteen miles west of Denver. The film seriesfeatures classic films, and pre-show\n",
    "entertainment including bands and comedians. Among the features that have made Red Rocks\n",
    "an internationally-famous concertstage are sweeping views of Denver, outstanding acoustics,\n",
    "and cool, dry Colorado summers.\n",
    "The seriesis jointly promoted by the Denver Film Society (DFS) and the City and County of\n",
    "Denver’s Division of Theatres and Arenas(DT&A). It is marketed through various outlets\n",
    "including newspaper, radio, and the Red Rocks and Denver Film Society websites. Film on the\n",
    "Rocks patrons also benefit from corporate sponsorship. In return for on-site posters and\n",
    "banners at Red Rocks, and recognition in pre- show marketing materials, corporations donate\n",
    "fundsthat keep ticket priceslow.\n",
    "Although the Red Rocks Amphitheatre provides a cinematic experience unlike any other venue,\n",
    "there are tradeoffs. Red Rocks is a farther commute for most people than the local movie\n",
    "theater or movie rental store. Given the uphill walk to the amphitheatre from the parking lot,\n",
    "getting there can be challenging. And, as an outdoor venue, the viewing experience is\n",
    "dependent on the weather.\n",
    "Patron satisfaction with Red Rocks as the venue for the film series is critical to its success. But,\n",
    "the series promoters would also like to increase attendance at the film series, and are unsure\n",
    "how to do this. Promotersrecognize that they need a better understanding of the customer\n",
    "base, and of the current level of satisfaction. Knowing the demographics of those who attend\n",
    "the film series will help attract and expand corporate sponsorship. In addition, knowing which\n",
    "media outlets are most effective will provideinformation about how best to target future\n",
    "marketing campaigns.\n",
    "To this end, the promoters conducted surveys during a recent Film on the Rocks season.\n",
    "Questionnaires were handed out at the entrance. Volunteers walked through the crowd to\n",
    "remind people about the free soft drink given to those who returned the survey."
   ]
  },
  {
   "cell_type": "markdown",
   "metadata": {},
   "source": [
    "#### BUSINESS PROBLEM: Use the survey resultsto addressthe following questions\n",
    "####  What is the overall level of customer satisfaction?"
   ]
  },
  {
   "cell_type": "code",
   "execution_count": 257,
   "metadata": {},
   "outputs": [
    {
     "name": "stdout",
     "output_type": "stream",
     "text": [
      "sample mean= 1.6189024390243902 | standard deviation= 0.6892863057161788 | SE= 0.03805946932136542 | mean - 1.960 * SE = 1.5443058791545141 | mean + 1.960 * SE = 1.6934989988942664\n"
     ]
    }
   ],
   "source": [
    "sample= films.Overall\n",
    "sample_mean= sample.mean()\n",
    "sample_std= sample.std()\n",
    "SE= sample_std/(np.sqrt(sample.count()))\n",
    "# Population level\n",
    "# at 95% CI\n",
    "print('sample mean=', sample_mean, '| standard deviation=', sample_std, '| SE=', SE, '| mean - 1.960 * SE =', sample_mean - (1.960 * SE), '| mean + 1.960 * SE =', sample_mean + (1.960 * SE)) "
   ]
  },
  {
   "cell_type": "code",
   "execution_count": 259,
   "metadata": {},
   "outputs": [
    {
     "name": "stdout",
     "output_type": "stream",
     "text": [
      "Business conclusion: We are 95% that people have thier movie satishfaction between 1.54 and 1.69.\n"
     ]
    }
   ],
   "source": [
    "# Business conclusion:\n",
    "print('Business conclusion: We are 95% that people have thier movie satishfaction between 1.54 and 1.69.')"
   ]
  },
  {
   "cell_type": "markdown",
   "metadata": {},
   "source": [
    "####  What factors are linked to satisfaction?"
   ]
  },
  {
   "cell_type": "code",
   "execution_count": 265,
   "metadata": {},
   "outputs": [
    {
     "name": "stdout",
     "output_type": "stream",
     "text": [
      "Performing independent sample ttest: Ttest_indResult(statistic=-2.5888027174359816, pvalue=0.01471174342681416)\n",
      "Business conclusion: Since p-value < 0.05, we reject the H0 which mena Gender has effect on Overall film experiance\n"
     ]
    }
   ],
   "source": [
    "# checking the relationship between Gender and Overall\n",
    "\n",
    "# Samples\n",
    "s1= films.loc[films.Gender == 'Female', 'Overall']\n",
    "s2= films.loc[films.Gender== 'Male', 'Overall']\n",
    "\n",
    "# H0: mean of s1 = mean of s2 i,e Gender has no effect on Overall\n",
    "# Ha: mean of s2 <> mean of s2 i,e Gender has effect on Overall\n",
    "# CI: 95%, p-value: 0.05\n",
    "\n",
    "# Perform the test:\n",
    "print( 'Performing independent sample ttest:', stats.ttest_ind(s1, s2))\n",
    "\n",
    "# Business conclusion: \n",
    "print('Business conclusion: Since p-value < 0.05, we reject the H0 which mena Gender has effect on Overall film experiance')"
   ]
  },
  {
   "cell_type": "code",
   "execution_count": 302,
   "metadata": {},
   "outputs": [
    {
     "name": "stdout",
     "output_type": "stream",
     "text": [
      "Performing ANOVA or f-test: F_onewayResult(statistic=0.9787002217923516, pvalue=0.4192434652806395)\n",
      "Business conclusion: Since p-value > 0.05, we fail to reject the H0 which means Age has no effect on Overall film experiance\n"
     ]
    }
   ],
   "source": [
    "# checking the relationship between Age and Overall\n",
    "\n",
    "# Samples\n",
    "a1= films.loc[films.Age == 1., 'Overall']\n",
    "a2= films.loc[films.Age == 2., 'Overall']\n",
    "a3= films.loc[films.Age == 3., 'Overall']\n",
    "a4= films.loc[films.Age == 4., 'Overall']\n",
    "a0= films.loc[films.Age == 0., 'Overall']\n",
    "\n",
    "# H0: mean of all samples are equal i,e Age has no effect on Overall\n",
    "# Ha: mean of all samples are not equal i,e Age has effect on Overall\n",
    "# CI: 95%, p-value: 0.05\n",
    "\n",
    "# Perform the test:\n",
    "print( 'Performing ANOVA or f-test:', stats.f_oneway(a1, a2, a3, a4, a0))\n",
    "\n",
    "# Business conclusion: \n",
    "print('Business conclusion: Since p-value > 0.05, we fail to reject the H0 which means Age has no effect on Overall film experiance')"
   ]
  },
  {
   "cell_type": "code",
   "execution_count": 301,
   "metadata": {},
   "outputs": [
    {
     "name": "stdout",
     "output_type": "stream",
     "text": [
      "Performing ANOVA or f-test: F_onewayResult(statistic=0.045733037036391096, pvalue=0.9870019828888965)\n",
      "Business conclusion: Since p-value > 0.05, we fail to reject the H0 which means Income has no effect on Overall film experiance\n"
     ]
    }
   ],
   "source": [
    "# checking the relationship between Income and Overall\n",
    "\n",
    "# Samples\n",
    "a1= films.loc[films.Income == 1., 'Overall']\n",
    "a2= films.loc[films.Income == 2., 'Overall']\n",
    "a3= films.loc[films.Income == 3., 'Overall']\n",
    "a0= films.loc[films.Income == 0., 'Overall']\n",
    "\n",
    "# H0: mean of all samples are equal i,e Income has no effect on Overall\n",
    "# Ha: mean of all samples are not equal i,e Income has effect on Overall\n",
    "# CI: 95%, p-value: 0.05\n",
    "\n",
    "# Perform the test:\n",
    "print( 'Performing ANOVA or f-test:', stats.f_oneway(a1, a2, a3, a0))\n",
    "\n",
    "# Business conclusion: \n",
    "print('Business conclusion: Since p-value > 0.05, we fail to reject the H0 which means Income has no effect on Overall film experiance')\n"
   ]
  },
  {
   "cell_type": "code",
   "execution_count": 317,
   "metadata": {},
   "outputs": [
    {
     "name": "stdout",
     "output_type": "stream",
     "text": [
      "Performing ANOVA or f-test: F_onewayResult(statistic=1.4442669994680088, pvalue=0.15182523046361193)\n",
      "Business conclusion: Since p-value > 0.05, we fail to reject the H0 which means Hear_about has no effect on Overall film experiance\n"
     ]
    }
   ],
   "source": [
    "# checking the relationship between Hear_about and Overall\n",
    "\n",
    "# Samples\n",
    "a1= films.loc[films.Hear_About == '1', 'Overall']\n",
    "a2= films.loc[films.Hear_About == '2', 'Overall']\n",
    "a3= films.loc[films.Hear_About == '3', 'Overall']\n",
    "a4= films.loc[films.Hear_About == '4', 'Overall']\n",
    "a5= films.loc[films.Hear_About == '5', 'Overall']\n",
    "a6= films.loc[films.Hear_About == 0, 'Overall']\n",
    "a7= films.loc[films.Hear_About == '4,5', 'Overall']\n",
    "a8= films.loc[films.Hear_About == '2,5', 'Overall']\n",
    "a9= films.loc[films.Hear_About == '1,5', 'Overall']\n",
    "a10= films.loc[films.Hear_About == '3,4', 'Overall']\n",
    "a11= films.loc[films.Hear_About == '5,4', 'Overall']\n",
    "a12= films.loc[films.Hear_About == '3,5', 'Overall']\n",
    "\n",
    "# H0: mean of all samples are equal i,e Hear_about has no effect on Overall\n",
    "# Ha: mean of all samples are not equal i,e Hear_about has effect on Overall\n",
    "# CI: 95%, p-value: 0.05\n",
    "\n",
    "# Perform the test:\n",
    "print( 'Performing ANOVA or f-test:', stats.f_oneway(a1, a2, a3, a4, a5, a6, a7, a8, a9, a10, a11, a12))\n",
    "\n",
    "# Business conclusion: \n",
    "print('Business conclusion: Since p-value > 0.05, we fail to reject the H0 which means Hear_about has no effect on Overall film experiance')\n"
   ]
  },
  {
   "cell_type": "markdown",
   "metadata": {},
   "source": [
    "####  What is the demographic profile of Film on the Rocks patrons?"
   ]
  },
  {
   "cell_type": "code",
   "execution_count": 324,
   "metadata": {},
   "outputs": [
    {
     "data": {
      "text/html": [
       "<div>\n",
       "<style scoped>\n",
       "    .dataframe tbody tr th:only-of-type {\n",
       "        vertical-align: middle;\n",
       "    }\n",
       "\n",
       "    .dataframe tbody tr th {\n",
       "        vertical-align: top;\n",
       "    }\n",
       "\n",
       "    .dataframe thead th {\n",
       "        text-align: right;\n",
       "    }\n",
       "</style>\n",
       "<table border=\"1\" class=\"dataframe\">\n",
       "  <thead>\n",
       "    <tr style=\"text-align: right;\">\n",
       "      <th></th>\n",
       "      <th>Movie</th>\n",
       "    </tr>\n",
       "    <tr>\n",
       "      <th>Gender</th>\n",
       "      <th></th>\n",
       "    </tr>\n",
       "  </thead>\n",
       "  <tbody>\n",
       "    <tr>\n",
       "      <th>Female</th>\n",
       "      <td>64.545455</td>\n",
       "    </tr>\n",
       "    <tr>\n",
       "      <th>Male</th>\n",
       "      <td>35.454545</td>\n",
       "    </tr>\n",
       "  </tbody>\n",
       "</table>\n",
       "</div>"
      ],
      "text/plain": [
       "            Movie\n",
       "Gender           \n",
       "Female  64.545455\n",
       "Male    35.454545"
      ]
     },
     "execution_count": 324,
     "metadata": {},
     "output_type": "execute_result"
    }
   ],
   "source": [
    "# Percentage of males and females.\n",
    "\n",
    "(films.pivot_table(values= 'Movie', index= 'Gender', aggfunc= 'count') * 100)/films.Gender.count()"
   ]
  },
  {
   "cell_type": "code",
   "execution_count": 328,
   "metadata": {},
   "outputs": [
    {
     "data": {
      "text/html": [
       "<div>\n",
       "<style scoped>\n",
       "    .dataframe tbody tr th:only-of-type {\n",
       "        vertical-align: middle;\n",
       "    }\n",
       "\n",
       "    .dataframe tbody tr th {\n",
       "        vertical-align: top;\n",
       "    }\n",
       "\n",
       "    .dataframe thead th {\n",
       "        text-align: right;\n",
       "    }\n",
       "</style>\n",
       "<table border=\"1\" class=\"dataframe\">\n",
       "  <thead>\n",
       "    <tr style=\"text-align: right;\">\n",
       "      <th></th>\n",
       "      <th>Movie</th>\n",
       "    </tr>\n",
       "    <tr>\n",
       "      <th>Marital_Status</th>\n",
       "      <th></th>\n",
       "    </tr>\n",
       "  </thead>\n",
       "  <tbody>\n",
       "    <tr>\n",
       "      <th>Married</th>\n",
       "      <td>30.30303</td>\n",
       "    </tr>\n",
       "    <tr>\n",
       "      <th>Single</th>\n",
       "      <td>69.69697</td>\n",
       "    </tr>\n",
       "  </tbody>\n",
       "</table>\n",
       "</div>"
      ],
      "text/plain": [
       "                   Movie\n",
       "Marital_Status          \n",
       "Married         30.30303\n",
       "Single          69.69697"
      ]
     },
     "execution_count": 328,
     "metadata": {},
     "output_type": "execute_result"
    }
   ],
   "source": [
    "# Percentage of Married and Singles.\n",
    "(films.pivot_table(values= 'Movie', index= 'Marital_Status', aggfunc= 'count') * 100)/films.Gender.count()"
   ]
  },
  {
   "cell_type": "code",
   "execution_count": 329,
   "metadata": {},
   "outputs": [
    {
     "data": {
      "text/html": [
       "<div>\n",
       "<style scoped>\n",
       "    .dataframe tbody tr th:only-of-type {\n",
       "        vertical-align: middle;\n",
       "    }\n",
       "\n",
       "    .dataframe tbody tr th {\n",
       "        vertical-align: top;\n",
       "    }\n",
       "\n",
       "    .dataframe thead th {\n",
       "        text-align: right;\n",
       "    }\n",
       "</style>\n",
       "<table border=\"1\" class=\"dataframe\">\n",
       "  <thead>\n",
       "    <tr style=\"text-align: right;\">\n",
       "      <th></th>\n",
       "      <th>Movie</th>\n",
       "    </tr>\n",
       "    <tr>\n",
       "      <th>Age</th>\n",
       "      <th></th>\n",
       "    </tr>\n",
       "  </thead>\n",
       "  <tbody>\n",
       "    <tr>\n",
       "      <th>0.0</th>\n",
       "      <td>0.606061</td>\n",
       "    </tr>\n",
       "    <tr>\n",
       "      <th>1.0</th>\n",
       "      <td>7.878788</td>\n",
       "    </tr>\n",
       "    <tr>\n",
       "      <th>2.0</th>\n",
       "      <td>53.030303</td>\n",
       "    </tr>\n",
       "    <tr>\n",
       "      <th>3.0</th>\n",
       "      <td>35.454545</td>\n",
       "    </tr>\n",
       "    <tr>\n",
       "      <th>4.0</th>\n",
       "      <td>3.030303</td>\n",
       "    </tr>\n",
       "  </tbody>\n",
       "</table>\n",
       "</div>"
      ],
      "text/plain": [
       "         Movie\n",
       "Age           \n",
       "0.0   0.606061\n",
       "1.0   7.878788\n",
       "2.0  53.030303\n",
       "3.0  35.454545\n",
       "4.0   3.030303"
      ]
     },
     "execution_count": 329,
     "metadata": {},
     "output_type": "execute_result"
    }
   ],
   "source": [
    "# Percentage of different age groups.\n",
    "(films.pivot_table(values= 'Movie', index= 'Age', aggfunc= 'count') * 100)/films.Gender.count()"
   ]
  },
  {
   "cell_type": "code",
   "execution_count": 330,
   "metadata": {},
   "outputs": [
    {
     "data": {
      "text/html": [
       "<div>\n",
       "<style scoped>\n",
       "    .dataframe tbody tr th:only-of-type {\n",
       "        vertical-align: middle;\n",
       "    }\n",
       "\n",
       "    .dataframe tbody tr th {\n",
       "        vertical-align: top;\n",
       "    }\n",
       "\n",
       "    .dataframe thead th {\n",
       "        text-align: right;\n",
       "    }\n",
       "</style>\n",
       "<table border=\"1\" class=\"dataframe\">\n",
       "  <thead>\n",
       "    <tr style=\"text-align: right;\">\n",
       "      <th></th>\n",
       "      <th>Movie</th>\n",
       "    </tr>\n",
       "    <tr>\n",
       "      <th>Income</th>\n",
       "      <th></th>\n",
       "    </tr>\n",
       "  </thead>\n",
       "  <tbody>\n",
       "    <tr>\n",
       "      <th>0.0</th>\n",
       "      <td>4.848485</td>\n",
       "    </tr>\n",
       "    <tr>\n",
       "      <th>1.0</th>\n",
       "      <td>43.030303</td>\n",
       "    </tr>\n",
       "    <tr>\n",
       "      <th>2.0</th>\n",
       "      <td>24.848485</td>\n",
       "    </tr>\n",
       "    <tr>\n",
       "      <th>3.0</th>\n",
       "      <td>27.272727</td>\n",
       "    </tr>\n",
       "  </tbody>\n",
       "</table>\n",
       "</div>"
      ],
      "text/plain": [
       "            Movie\n",
       "Income           \n",
       "0.0      4.848485\n",
       "1.0     43.030303\n",
       "2.0     24.848485\n",
       "3.0     27.272727"
      ]
     },
     "execution_count": 330,
     "metadata": {},
     "output_type": "execute_result"
    }
   ],
   "source": [
    "# Percentage of different Income groups.\n",
    "(films.pivot_table(values= 'Movie', index= 'Income', aggfunc= 'count') * 100)/films.Gender.count()"
   ]
  },
  {
   "cell_type": "code",
   "execution_count": 332,
   "metadata": {},
   "outputs": [
    {
     "data": {
      "text/html": [
       "<div>\n",
       "<style scoped>\n",
       "    .dataframe tbody tr th:only-of-type {\n",
       "        vertical-align: middle;\n",
       "    }\n",
       "\n",
       "    .dataframe tbody tr th {\n",
       "        vertical-align: top;\n",
       "    }\n",
       "\n",
       "    .dataframe thead th {\n",
       "        text-align: right;\n",
       "    }\n",
       "</style>\n",
       "<table border=\"1\" class=\"dataframe\">\n",
       "  <thead>\n",
       "    <tr style=\"text-align: right;\">\n",
       "      <th></th>\n",
       "      <th>Movie</th>\n",
       "    </tr>\n",
       "    <tr>\n",
       "      <th>Hear_About</th>\n",
       "      <th></th>\n",
       "    </tr>\n",
       "  </thead>\n",
       "  <tbody>\n",
       "    <tr>\n",
       "      <th>0</th>\n",
       "      <td>2.121212</td>\n",
       "    </tr>\n",
       "    <tr>\n",
       "      <th>1</th>\n",
       "      <td>6.666667</td>\n",
       "    </tr>\n",
       "    <tr>\n",
       "      <th>1,5</th>\n",
       "      <td>0.303030</td>\n",
       "    </tr>\n",
       "    <tr>\n",
       "      <th>2</th>\n",
       "      <td>3.636364</td>\n",
       "    </tr>\n",
       "    <tr>\n",
       "      <th>2,5</th>\n",
       "      <td>0.606061</td>\n",
       "    </tr>\n",
       "    <tr>\n",
       "      <th>3</th>\n",
       "      <td>4.242424</td>\n",
       "    </tr>\n",
       "    <tr>\n",
       "      <th>3,4</th>\n",
       "      <td>0.606061</td>\n",
       "    </tr>\n",
       "    <tr>\n",
       "      <th>3,5</th>\n",
       "      <td>0.303030</td>\n",
       "    </tr>\n",
       "    <tr>\n",
       "      <th>4</th>\n",
       "      <td>12.424242</td>\n",
       "    </tr>\n",
       "    <tr>\n",
       "      <th>4,5</th>\n",
       "      <td>0.303030</td>\n",
       "    </tr>\n",
       "    <tr>\n",
       "      <th>5</th>\n",
       "      <td>68.484848</td>\n",
       "    </tr>\n",
       "    <tr>\n",
       "      <th>5,4</th>\n",
       "      <td>0.303030</td>\n",
       "    </tr>\n",
       "  </tbody>\n",
       "</table>\n",
       "</div>"
      ],
      "text/plain": [
       "                Movie\n",
       "Hear_About           \n",
       "0            2.121212\n",
       "1            6.666667\n",
       "1,5          0.303030\n",
       "2            3.636364\n",
       "2,5          0.606061\n",
       "3            4.242424\n",
       "3,4          0.606061\n",
       "3,5          0.303030\n",
       "4           12.424242\n",
       "4,5          0.303030\n",
       "5           68.484848\n",
       "5,4          0.303030"
      ]
     },
     "execution_count": 332,
     "metadata": {},
     "output_type": "execute_result"
    }
   ],
   "source": [
    "# Percentage of different Hear_abouts.\n",
    "(films.pivot_table(values= 'Movie', index= 'Hear_About', aggfunc= 'count') * 100)/films.Gender.count()"
   ]
  },
  {
   "cell_type": "markdown",
   "metadata": {},
   "source": [
    "####  In what media outlet(s) should the film series be advertised?"
   ]
  },
  {
   "cell_type": "code",
   "execution_count": 333,
   "metadata": {},
   "outputs": [
    {
     "data": {
      "text/plain": [
       "5      226\n",
       "4       41\n",
       "1       22\n",
       "3       14\n",
       "2       12\n",
       "0        7\n",
       "2,5      2\n",
       "3,4      2\n",
       "4,5      1\n",
       "5,4      1\n",
       "1,5      1\n",
       "3,5      1\n",
       "Name: Hear_About, dtype: int64"
      ]
     },
     "execution_count": 333,
     "metadata": {},
     "output_type": "execute_result"
    }
   ],
   "source": [
    "films.Hear_About.value_counts()"
   ]
  },
  {
   "cell_type": "code",
   "execution_count": 334,
   "metadata": {},
   "outputs": [
    {
     "name": "stdout",
     "output_type": "stream",
     "text": [
      "The film should be advertised in Word of mouth or through websites\n"
     ]
    }
   ],
   "source": [
    "print('From the above data we can see that film should be advertised in Word of mouth or through websites.')"
   ]
  },
  {
   "cell_type": "code",
   "execution_count": null,
   "metadata": {},
   "outputs": [],
   "source": []
  }
 ],
 "metadata": {
  "kernelspec": {
   "display_name": "Python 3",
   "language": "python",
   "name": "python3"
  },
  "language_info": {
   "codemirror_mode": {
    "name": "ipython",
    "version": 3
   },
   "file_extension": ".py",
   "mimetype": "text/x-python",
   "name": "python",
   "nbconvert_exporter": "python",
   "pygments_lexer": "ipython3",
   "version": "3.8.5"
  }
 },
 "nbformat": 4,
 "nbformat_minor": 4
}
